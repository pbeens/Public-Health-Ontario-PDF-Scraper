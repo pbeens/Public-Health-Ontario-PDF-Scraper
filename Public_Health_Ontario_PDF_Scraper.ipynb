{
  "nbformat": 4,
  "nbformat_minor": 0,
  "metadata": {
    "colab": {
      "name": "Public Health Ontario PDF Scraper.ipynb",
      "provenance": [],
      "collapsed_sections": [],
      "authorship_tag": "ABX9TyMFoEg3PqB6KdAI9vV4MZkE",
      "include_colab_link": true
    },
    "kernelspec": {
      "name": "python3",
      "display_name": "Python 3"
    },
    "language_info": {
      "name": "python"
    }
  },
  "cells": [
    {
      "cell_type": "markdown",
      "metadata": {
        "id": "view-in-github",
        "colab_type": "text"
      },
      "source": [
        "<a href=\"https://colab.research.google.com/github/pbeens/Public-Health-Ontario-PDF-Scraper/blob/main/Public_Health_Ontario_PDF_Scraper.ipynb\" target=\"_parent\"><img src=\"https://colab.research.google.com/assets/colab-badge.svg\" alt=\"Open In Colab\"/></a>"
      ]
    },
    {
      "cell_type": "markdown",
      "metadata": {
        "id": "nevL3VMGxkMV"
      },
      "source": [
        "This program scrapes the Ontario Public Health website and downloads all PDF files into the PDFs folder.\n",
        "\n",
        "It has been written to be run in Colab only. \n",
        "\n",
        "TODO: The program has only been written to go two links deep, which may or may not be sufficient to download all PDFs.\n",
        "\n",
        "TODO: Don't attempt to grab links from PDFs. It slows the program down too much!\n",
        "\n",
        "TODO: Skips URLs with '?sc_lang=fr' (CHECK) (These are dupes)\n",
        "\n",
        "The PDFs get zip'd and can be downloaded manually to your computer. \n",
        "\n",
        "URL of this notebook in Colab: https://colab.research.google.com/drive/1iC1l3ZHw6_vgztBUcSjkPsn5FVFlMdJ1?usp=sharing"
      ]
    },
    {
      "cell_type": "code",
      "metadata": {
        "id": "pemQoKk2xlqy"
      },
      "source": [
        "# imports\n",
        "import time"
      ],
      "execution_count": null,
      "outputs": []
    },
    {
      "cell_type": "code",
      "source": [
        "!mkdir 'PDFs'"
      ],
      "metadata": {
        "id": "lhbiBJrPHa5v"
      },
      "execution_count": null,
      "outputs": []
    },
    {
      "cell_type": "code",
      "source": [
        "# setup takes a long time\n",
        "# Note that this contains some custom lines to set\n",
        "# the download folder\n",
        "\n",
        "!pip install selenium -q\n",
        "!apt-get update # to update ubuntu to correctly run apt install\n",
        "!apt install chromium-chromedriver\n",
        "!cp /usr/lib/chromium-browser/chromedriver /usr/bin\n",
        "import sys\n",
        "sys.path.insert(0,'/usr/lib/chromium-browser/chromedriver')\n",
        "from selenium import webdriver\n",
        "from selenium.webdriver.common.by import By\n",
        "chrome_options = webdriver.ChromeOptions()\n",
        "chrome_options.add_argument('--headless')\n",
        "chrome_options.add_argument('--no-sandbox')\n",
        "chrome_options.add_argument('--disable-dev-shm-usage')\n",
        "\n",
        "prefs = {'download.default_directory' : '/content/PDFs'}\n",
        "chrome_options.add_experimental_option('prefs', prefs)\n",
        "\n",
        "wd = webdriver.Chrome('chromedriver',chrome_options=chrome_options)"
      ],
      "metadata": {
        "id": "qfFczDagnTs1"
      },
      "execution_count": null,
      "outputs": []
    },
    {
      "cell_type": "code",
      "metadata": {
        "id": "2hLQyNdFyLoh"
      },
      "source": [
        "# global variable(s)\n",
        "url = 'https://www.publichealthontario.ca/'\n",
        "all_links = []"
      ],
      "execution_count": null,
      "outputs": []
    },
    {
      "cell_type": "code",
      "source": [
        "# to filter out undesired links\n",
        "exceptions = ['mailto', 'Login', '#']\n",
        "\n",
        "def url_okay(url):\n",
        "    for exception in exceptions:\n",
        "        if url.count(exception) > 0:\n",
        "            return False\n",
        "    return True"
      ],
      "metadata": {
        "id": "bsUlsJ0ELa9U"
      },
      "execution_count": null,
      "outputs": []
    },
    {
      "cell_type": "code",
      "source": [
        "wd.get(url)\n",
        "\n",
        "links = wd.find_elements_by_xpath(\"//a[@href]\") # finds all links\n",
        "\n",
        "for link in links:\n",
        "    title = link.text\n",
        "    url = link.get_attribute('href')\n",
        "    if url_okay(url):\n",
        "        if url.count('www.publichealthontario.ca') > 0:\n",
        "            if url not in all_links:\n",
        "                all_links.append(url)\n",
        "                print(title, url)"
      ],
      "metadata": {
        "id": "AqDoedBYTFf8"
      },
      "execution_count": null,
      "outputs": []
    },
    {
      "cell_type": "code",
      "source": [
        "# grab links from all_links pages\n",
        "\n",
        "for link in all_links:\n",
        "    print(f'Grabbing links from {link}... ')\n",
        "    wd.get(link)\n",
        "    links_in_page = wd.find_elements_by_xpath(\"//a[@href]\")\n",
        "    for lnk in links_in_page: # added sorted() to this\n",
        "        title = lnk.text\n",
        "        url = lnk.get_attribute('href')\n",
        "        if url_okay(url):\n",
        "            if url.count('www.publichealthontario.ca') > 0:\n",
        "                if url not in all_links:\n",
        "                    all_links.append(url)\n",
        "                    print(title, url)"
      ],
      "metadata": {
        "id": "4aeFFQwb_sup"
      },
      "execution_count": null,
      "outputs": []
    },
    {
      "cell_type": "code",
      "source": [
        "# download all PDFs\n",
        "for link in sorted(all_links):\n",
        "    if link.count('pdf') > 0:\n",
        "        print(link.split('/')[-1]) # print filename only\n",
        "        wd.get(link)\n",
        "        time.sleep(1)"
      ],
      "metadata": {
        "id": "STLMqNIWCINZ"
      },
      "execution_count": null,
      "outputs": []
    },
    {
      "cell_type": "code",
      "source": [
        "# zip the files for download\n",
        "import shutil\n",
        "shutil.make_archive('PDFs', 'zip', '/content/PDFs')"
      ],
      "metadata": {
        "id": "NLLe92YYMoLH"
      },
      "execution_count": null,
      "outputs": []
    }
  ]
}